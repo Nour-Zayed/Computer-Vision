{
  "nbformat": 4,
  "nbformat_minor": 0,
  "metadata": {
    "colab": {
      "provenance": []
    },
    "kernelspec": {
      "name": "python3",
      "display_name": "Python 3"
    },
    "language_info": {
      "name": "python"
    }
  },
  "cells": [
    {
      "cell_type": "markdown",
      "source": [
        "## Intro to Computer Vision\n",
        "## Main topics\n",
        "\n",
        "### 1- **Classification**\n",
        "process of sorting data into predefined categories or classes based on certain features. The main goal is to assign a specific input (e.g., image, text, or audio) to one class out of a set of predefined classes.\n",
        "[ cat or a dog. -  normal or spam.]\n",
        "\n",
        "\n",
        " ### 2- **Detection**\n",
        "Detection focuses on identifying the presence and location of specific objects within data. It often involves returning bounding boxes around the detected objects in images or videos\n",
        "[Detecting people or vehicles  - Identifying tumors in X-ray images]\n",
        "\n",
        "\n",
        "### 3- **Segmentation**\n",
        "aims to divide an image or dataset into distinct regions or segments, where each segment represents a specific object or area of interest. Unlike detection, it assigns each pixel to a specific category.\n",
        "\n",
        "\n",
        "\n",
        "### 4- **Recognition**\n",
        "Recognition refers to identifying objects or patterns by matching the input with pre-stored data.\n",
        "\n",
        "[Facial recognition in photos or videos -Text recognition (OCR) from scanned documents or images.-\n",
        "Speech recognition to identify a speaker]\n",
        "\n",
        "### 5- **localization**\n",
        "\n",
        "refers to determining the precise position or location of an object within a given space, often alongside identifying the object itself. Unlike detection, which provides a general bounding box, localization involves pinpointing the exact position of an object, sometimes as a coordinate or with high spatial accuracy.\n",
        "\n",
        "### 6- **Optical Character Recognition (OCR) **\n",
        "\n",
        "technology used to extract and convert printed or handwritten text from images, scanned documents, or photos into machine-readable text. It bridges the gap between visual data and digital text processing.\n",
        "\n",
        "### 7- **Image Captioning**\n",
        "\n",
        "task of generating a textual description or caption for an image. The goal is to accurately describe the content of the image in natural language, capturing the objects, actions, and context present in the scene.\n",
        "\n",
        "### 8- **Question Answering (QA)**\n",
        "\n",
        "field in Natural Language Processing (NLP) that focuses on building systems capable of answering questions posed by humans in natural language. can process and interpret text or speech to provide accurate and relevant responses."
      ],
      "metadata": {
        "id": "qZdMo1pGGdxs"
      }
    },
    {
      "cell_type": "markdown",
      "source": [
        "### What is OpenCV\n",
        "Open source computer vision\n",
        "\n",
        "**Why OpenCV ?**           \n",
        "\n",
        "C++: Opencv, OpenGL             \n",
        "Python: OpenCV, Sikit-image, PIL      \n",
        "        \n",
        "\n",
        "\n",
        "**Image types:**\n",
        "Colored Image: Red, Green, Blue ( RGB )       \n",
        "\n",
        "**3 Channels**        \n",
        "Red = 0:255 <br>\n",
        "Green =  0:255 <br>\n",
        "Blue =  0:255 <br>\n",
        "Ex: <br>\n",
        "\n",
        "Black : 0 , 0  , 0                 \n",
        "White : 255, 255, 255   \n",
        "\n",
        "**Gray Scale** <br>\n",
        "         \n",
        "Black : 0\n",
        "White : 255\n",
        "\n",
        "\n",
        "Gray Scale Image: 2D-Matrix = w*h ( width * height )              \n",
        "Colored Image: 3D-Matrix = w * h * 3 ( width * height * 3)                       "
      ],
      "metadata": {
        "id": "PQt25f-yKW5O"
      }
    },
    {
      "cell_type": "code",
      "source": [],
      "metadata": {
        "id": "Fxinqe8sHJS5"
      },
      "execution_count": null,
      "outputs": []
    },
    {
      "cell_type": "code",
      "source": [],
      "metadata": {
        "id": "9U7Xxec7HEku"
      },
      "execution_count": null,
      "outputs": []
    }
  ]
}